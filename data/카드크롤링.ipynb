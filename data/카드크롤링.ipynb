{
 "cells": [
  {
   "cell_type": "code",
   "execution_count": 99,
   "id": "18e883a4",
   "metadata": {},
   "outputs": [],
   "source": [
    "from selenium import webdriver\n",
    "from selenium.webdriver.common.by import By\n",
    "from selenium.webdriver.chrome.options import Options\n",
    "from selenium.webdriver.support.ui import WebDriverWait\n",
    "from selenium.webdriver.support import expected_conditions as EC\n",
    "import time\n",
    "import pandas as pd\n",
    "from tqdm import tqdm\n",
    "from selenium.webdriver.common.keys import Keys"
   ]
  },
  {
   "cell_type": "markdown",
   "id": "8d5e1a27",
   "metadata": {},
   "source": [
    "### 체크카드 크롤링"
   ]
  },
  {
   "cell_type": "code",
   "execution_count": null,
   "id": "49330684",
   "metadata": {},
   "outputs": [],
   "source": [
    "op = Options()\n",
    "# op.add_argument('headless')\n",
    "op.add_argument('lang=ko_KR')\n",
    "\n",
    "driver = webdriver.Chrome('C:/Users/SSAFY/Desktop/chromedriver.exe', options=op)\n",
    "driver.get('https://www.card-gorilla.com/chart/check100?term=weekly')"
   ]
  },
  {
   "cell_type": "code",
   "execution_count": null,
   "id": "422889af",
   "metadata": {},
   "outputs": [],
   "source": [
    "cd_pd_check = pd.DataFrame()\n",
    "cd_bf_check = pd.DataFrame()"
   ]
  },
  {
   "cell_type": "code",
   "execution_count": null,
   "id": "7bd1a2a6",
   "metadata": {},
   "outputs": [],
   "source": [
    "for i in tqdm(range(100)):\n",
    "    a = driver.find_element(By.XPATH, '//*[@id=\"q-app\"]/section/div[1]/section/div[2]/article[1]/div/div')\n",
    "    t = a.find_elements(By.TAG_NAME, 'ul')    # 100개\n",
    "    \n",
    "    t[i].find_element(By.CLASS_NAME, 'view_btn').click()\n",
    "    temp = pd.DataFrame()\n",
    "    time.sleep(1)\n",
    "    temp['cd_name'] = [driver.find_element(By.XPATH, '//*[@id=\"q-app\"]/section/div[1]/section/div/article[1]/div/div/div[2]/div[1]/strong').text]\n",
    "    temp['cp'] = [driver.find_element(By.XPATH, '//*[@id=\"q-app\"]/section/div[1]/section/div/article[1]/div/div/div[2]/div[1]/p').text]\n",
    "    temp['cd_type'] = [2]    # 체크냐 신용이냐\n",
    "    temp['cd_img'] = [driver.find_element(By.XPATH, '//*[@id=\"q-app\"]/section/div[1]/section/div/article[1]/div/div/div[1]/img').get_attribute(\"src\")]\n",
    "    temp['cd_perm'] = [driver.find_element(By.CLASS_NAME, 'bnf2').find_elements(By.CSS_SELECTOR, 'dl')[1].text]\n",
    "    temp['cd_fee'] = [driver.find_element(By.CLASS_NAME, 'in_out').text]\n",
    "    try:\n",
    "        temp['cd_link'] = [driver.find_element(By.CLASS_NAME, 'app_btn').find_element(By.CSS_SELECTOR, 'a').get_attribute('href')]\n",
    "    except:\n",
    "        temp['cd_link'] = None\n",
    "    cd_pd_check = pd.concat([cd_pd_check, temp], ignore_index=True)\n",
    "    \n",
    "    temp = pd.DataFrame()\n",
    "    for j in driver.find_element(By.CLASS_NAME, 'lst.inner.faq_area').find_elements(By.TAG_NAME, 'dl'):\n",
    "        j.find_element(By.CSS_SELECTOR, 'dt').click()\n",
    "        time.sleep(.5)\n",
    "        temp['cd_pd'] = [driver.find_element(By.XPATH, '//*[@id=\"q-app\"]/section/div[1]/section/div/article[1]/div/div/div[2]/div[1]/strong').text]\n",
    "        p = j.find_element(By.CSS_SELECTOR, 'dt').get_attribute('style')\n",
    "        x, y = p.find('http'), p.find(';') - 2\n",
    "        temp['cd_bf_img'] = [p[x:y]]\n",
    "        temp['cd_bf_name'] = [j.find_element(By.CSS_SELECTOR, 'strong').text]\n",
    "        temp['cd_bf_sum'] = [j.find_element(By.CSS_SELECTOR, 'i').text]\n",
    "        temp['cd_bf_detail'] = [j.find_element(By.CSS_SELECTOR, 'dd').text]\n",
    "        j.find_element(By.CSS_SELECTOR, 'dt').click()\n",
    "        time.sleep(.5)\n",
    "        cd_bf_check = pd.concat([cd_bf_check, temp], ignore_index=True)\n",
    "    driver.back()\n",
    "    time.sleep(1)"
   ]
  },
  {
   "cell_type": "markdown",
   "id": "847de5d9",
   "metadata": {},
   "source": [
    "### 신용카드 크롤링"
   ]
  },
  {
   "cell_type": "code",
   "execution_count": 258,
   "id": "7a7f37a6",
   "metadata": {},
   "outputs": [
    {
     "name": "stderr",
     "output_type": "stream",
     "text": [
      "C:\\Users\\SSAFY\\AppData\\Local\\Temp\\ipykernel_19136\\2378682566.py:5: DeprecationWarning: executable_path has been deprecated, please pass in a Service object\n",
      "  driver = webdriver.Chrome('C:/Users/SSAFY/Desktop/chromedriver.exe', options=op)\n"
     ]
    }
   ],
   "source": [
    "op = Options()\n",
    "# op.add_argument('headless')\n",
    "op.add_argument('lang=ko_KR')\n",
    "\n",
    "driver = webdriver.Chrome('C:/Users/SSAFY/Desktop/chromedriver.exe', options=op)\n",
    "driver.get('https://www.card-gorilla.com/chart/top100?term=weekly')"
   ]
  },
  {
   "cell_type": "code",
   "execution_count": 259,
   "id": "cae74534",
   "metadata": {},
   "outputs": [],
   "source": [
    "cd_pd = pd.DataFrame()\n",
    "cd_bf = pd.DataFrame()"
   ]
  },
  {
   "cell_type": "code",
   "execution_count": 260,
   "id": "3e6f7d5d",
   "metadata": {},
   "outputs": [
    {
     "name": "stderr",
     "output_type": "stream",
     "text": [
      "100%|████████████████████████████████████████████████████████████████████████████████| 100/100 [17:09<00:00, 10.29s/it]\n"
     ]
    }
   ],
   "source": [
    "for i in tqdm(range(100)):\n",
    "    a = driver.find_element(By.XPATH, '//*[@id=\"q-app\"]/section/div[1]/section/div[2]/article[1]/div/div')\n",
    "    t = a.find_elements(By.TAG_NAME, 'ul')    # 100개\n",
    "    \n",
    "    t[i].find_element(By.CLASS_NAME, 'view_btn').click()\n",
    "    temp = pd.DataFrame()\n",
    "    time.sleep(1)\n",
    "    temp['cd_name'] = [driver.find_element(By.XPATH, '//*[@id=\"q-app\"]/section/div[1]/section/div/article[1]/div/div/div[2]/div[1]/strong').text]\n",
    "    temp['cp'] = [driver.find_element(By.XPATH, '//*[@id=\"q-app\"]/section/div[1]/section/div/article[1]/div/div/div[2]/div[1]/p').text]\n",
    "    temp['cd_type'] = [2]    # 체크냐 신용이냐\n",
    "    temp['cd_img'] = [driver.find_element(By.XPATH, '//*[@id=\"q-app\"]/section/div[1]/section/div/article[1]/div/div/div[1]/img').get_attribute(\"src\")]\n",
    "    temp['cd_perm'] = [driver.find_element(By.CLASS_NAME, 'bnf2').find_elements(By.CSS_SELECTOR, 'dl')[1].text]\n",
    "    temp['cd_fee'] = [driver.find_element(By.CLASS_NAME, 'in_out').text]\n",
    "    try:\n",
    "        temp['cd_link'] = [driver.find_element(By.CLASS_NAME, 'app_btn').find_element(By.CSS_SELECTOR, 'a').get_attribute('href')]\n",
    "    except:\n",
    "        temp['cd_link'] = None\n",
    "    cd_pd = pd.concat([cd_pd, temp], ignore_index=True)\n",
    "    \n",
    "    temp = pd.DataFrame()\n",
    "    for j in driver.find_element(By.CLASS_NAME, 'lst.inner.faq_area').find_elements(By.TAG_NAME, 'dl'):\n",
    "        j.find_element(By.CSS_SELECTOR, 'dt').click()\n",
    "        time.sleep(.5)\n",
    "        temp['cd_pd'] = [driver.find_element(By.XPATH, '//*[@id=\"q-app\"]/section/div[1]/section/div/article[1]/div/div/div[2]/div[1]/strong').text]\n",
    "        p = j.find_element(By.CSS_SELECTOR, 'dt').get_attribute('style')\n",
    "        x, y = p.find('http'), p.find(';') - 2\n",
    "        temp['cd_bf_img'] = [p[x:y]]\n",
    "        temp['cd_bf_name'] = [j.find_element(By.CSS_SELECTOR, 'strong').text]\n",
    "        temp['cd_bf_sum'] = [j.find_element(By.CSS_SELECTOR, 'i').text]\n",
    "        temp['cd_bf_detail'] = [j.find_element(By.CSS_SELECTOR, 'dd').text]\n",
    "        j.find_element(By.CSS_SELECTOR, 'dt').click()\n",
    "        time.sleep(.5)\n",
    "        cd_bf = pd.concat([cd_bf, temp], ignore_index=True)\n",
    "    driver.back()\n",
    "    time.sleep(1)"
   ]
  },
  {
   "cell_type": "code",
   "execution_count": 262,
   "id": "103cc1ff",
   "metadata": {
    "scrolled": true
   },
   "outputs": [
    {
     "data": {
      "text/plain": [
       "(100, 7)"
      ]
     },
     "execution_count": 262,
     "metadata": {},
     "output_type": "execute_result"
    }
   ],
   "source": [
    "cd_pd_check.shape"
   ]
  },
  {
   "cell_type": "code",
   "execution_count": 265,
   "id": "5f1d26eb",
   "metadata": {
    "scrolled": true
   },
   "outputs": [
    {
     "data": {
      "text/plain": [
       "(597, 5)"
      ]
     },
     "execution_count": 265,
     "metadata": {},
     "output_type": "execute_result"
    }
   ],
   "source": [
    "cd_bf_check.shape"
   ]
  },
  {
   "cell_type": "code",
   "execution_count": 264,
   "id": "5f3dc5f1",
   "metadata": {},
   "outputs": [
    {
     "data": {
      "text/plain": [
       "(99, 7)"
      ]
     },
     "execution_count": 264,
     "metadata": {},
     "output_type": "execute_result"
    }
   ],
   "source": [
    "cd_pd.shape"
   ]
  },
  {
   "cell_type": "code",
   "execution_count": 266,
   "id": "9f132964",
   "metadata": {
    "scrolled": true
   },
   "outputs": [
    {
     "data": {
      "text/plain": [
       "(650, 5)"
      ]
     },
     "execution_count": 266,
     "metadata": {},
     "output_type": "execute_result"
    }
   ],
   "source": [
    "cd_bf.shape"
   ]
  },
  {
   "cell_type": "code",
   "execution_count": 267,
   "id": "b1d2e005",
   "metadata": {},
   "outputs": [],
   "source": [
    "cd_pd = pd.concat([cd_pd, cd_pd_check], ignore_index=True)\n",
    "cd_bf = pd.concat([cd_bf, cd_bf_check], ignore_index=True)"
   ]
  },
  {
   "cell_type": "code",
   "execution_count": 274,
   "id": "711b5066",
   "metadata": {},
   "outputs": [
    {
     "data": {
      "text/plain": [
       "['현대카드',\n",
       " '우리카드',\n",
       " 'NH농협카드',\n",
       " '삼성카드',\n",
       " '롯데카드',\n",
       " '신한카드',\n",
       " 'KB국민카드',\n",
       " '하나카드',\n",
       " 'BC 바로카드',\n",
       " 'IBK기업은행',\n",
       " '토스뱅크',\n",
       " '카카오뱅크',\n",
       " '케이뱅크',\n",
       " '엔에이치엔페이코',\n",
       " '우체국',\n",
       " '토스',\n",
       " 'MG새마을금고',\n",
       " '트래블월렛',\n",
       " '카카오페이']"
      ]
     },
     "execution_count": 274,
     "metadata": {},
     "output_type": "execute_result"
    }
   ],
   "source": [
    "company = cd_pd['cp'].unique().tolist()\n",
    "company"
   ]
  },
  {
   "cell_type": "code",
   "execution_count": 282,
   "id": "51f0df85",
   "metadata": {
    "scrolled": true
   },
   "outputs": [
    {
     "data": {
      "text/html": [
       "<div>\n",
       "<style scoped>\n",
       "    .dataframe tbody tr th:only-of-type {\n",
       "        vertical-align: middle;\n",
       "    }\n",
       "\n",
       "    .dataframe tbody tr th {\n",
       "        vertical-align: top;\n",
       "    }\n",
       "\n",
       "    .dataframe thead th {\n",
       "        text-align: right;\n",
       "    }\n",
       "</style>\n",
       "<table border=\"1\" class=\"dataframe\">\n",
       "  <thead>\n",
       "    <tr style=\"text-align: right;\">\n",
       "      <th></th>\n",
       "      <th>cd_pd</th>\n",
       "      <th>cd_bf_img</th>\n",
       "      <th>cd_bf_name</th>\n",
       "      <th>cd_bf_sum</th>\n",
       "      <th>cd_bf_detail</th>\n",
       "    </tr>\n",
       "  </thead>\n",
       "  <tbody>\n",
       "    <tr>\n",
       "      <th>0</th>\n",
       "      <td>현대카드ZERO Edition2(할인형)</td>\n",
       "      <td>https://api.card-gorilla.com:8080/storage/bene...</td>\n",
       "      <td>할인</td>\n",
       "      <td>[기본 할인] 국내외 가맹점 이용금액의 0.7% 청구 할인</td>\n",
       "      <td>국내외 가맹점 이용금액의 0.7% 청구 할인\\n- 할인 횟수/한도 제한 없음\\n- ...</td>\n",
       "    </tr>\n",
       "    <tr>\n",
       "      <th>1</th>\n",
       "      <td>현대카드ZERO Edition2(할인형)</td>\n",
       "      <td>https://api.card-gorilla.com:8080/storage/bene...</td>\n",
       "      <td>할인</td>\n",
       "      <td>[생활 필수 영역 할인] 이용금액의 1.5% 청구 할인</td>\n",
       "      <td>생활 필수 영역 이용금액의 1.5% 청구 할인\\n① 온라인 간편결제서비스 : 삼성페...</td>\n",
       "    </tr>\n",
       "    <tr>\n",
       "      <th>2</th>\n",
       "      <td>현대카드ZERO Edition2(할인형)</td>\n",
       "      <td>https://api.card-gorilla.com:8080/storage/bene...</td>\n",
       "      <td>프리미엄 서비스</td>\n",
       "      <td>VISA 플래티넘 / Young Premium 서비스 제공</td>\n",
       "      <td>VISA 플래티넘서비스\\n- VISA 브랜드 플래티넘서비스 중 기본제공서비스에 한해...</td>\n",
       "    </tr>\n",
       "    <tr>\n",
       "      <th>3</th>\n",
       "      <td>현대카드ZERO Edition2(할인형)</td>\n",
       "      <td>https://api.card-gorilla.com:8080/storage/bene...</td>\n",
       "      <td>무이자할부</td>\n",
       "      <td>무이자할부 서비스</td>\n",
       "      <td>모든 가맹점 2~3개월 무이자할부 \\n- 모든 가맹점에서 2~3개월 할부 결제 시 ...</td>\n",
       "    </tr>\n",
       "    <tr>\n",
       "      <th>4</th>\n",
       "      <td>현대카드ZERO Edition2(할인형)</td>\n",
       "      <td>https://api.card-gorilla.com:8080/storage/bene...</td>\n",
       "      <td>유의사항</td>\n",
       "      <td>꼭 확인하세요!</td>\n",
       "      <td>이용 안내\\n- 국내외 가맹점은 현대카드 가맹점 등록 기준\\n- 당사는 상품설명서의...</td>\n",
       "    </tr>\n",
       "    <tr>\n",
       "      <th>...</th>\n",
       "      <td>...</td>\n",
       "      <td>...</td>\n",
       "      <td>...</td>\n",
       "      <td>...</td>\n",
       "      <td>...</td>\n",
       "    </tr>\n",
       "    <tr>\n",
       "      <th>1242</th>\n",
       "      <td>해피락스타 체크카드</td>\n",
       "      <td>https://api.card-gorilla.com:8080/storage/bene...</td>\n",
       "      <td>은행사</td>\n",
       "      <td>금융수수료 면제 서비스</td>\n",
       "      <td>금융수수료 면제 서비스\\n- 인터넷·모바일·폰뱅킹 타행이체 수수료 면제\\n- KB국...</td>\n",
       "    </tr>\n",
       "    <tr>\n",
       "      <th>1243</th>\n",
       "      <td>해피락스타 체크카드</td>\n",
       "      <td>https://api.card-gorilla.com:8080/storage/bene...</td>\n",
       "      <td>기타</td>\n",
       "      <td>통합할인한도</td>\n",
       "      <td>월간 통합할인한도\\n- 전월 이용실적 20만원 이상: 1만원\\n- 전월 이용실적 3...</td>\n",
       "    </tr>\n",
       "    <tr>\n",
       "      <th>1244</th>\n",
       "      <td>해피락스타 체크카드</td>\n",
       "      <td>https://api.card-gorilla.com:8080/storage/bene...</td>\n",
       "      <td>유의사항</td>\n",
       "      <td>꼭 확인하세요!</td>\n",
       "      <td>카드발급\\n- 인터넷을 통한 체크카드 발급은 만 17세 이상으로 KB국민은행 요구불...</td>\n",
       "    </tr>\n",
       "    <tr>\n",
       "      <th>1245</th>\n",
       "      <td>신한카드 하이패스(전용) 체크</td>\n",
       "      <td>https://api.card-gorilla.com:8080/storage/bene...</td>\n",
       "      <td>하이패스</td>\n",
       "      <td>하이패스 이용요금의 0.1% 포인트 적립</td>\n",
       "      <td>하이패스 체크카드 서비스 \\n* 상세내용은 도로공사 홈페이지(www.ex.co.kr...</td>\n",
       "    </tr>\n",
       "    <tr>\n",
       "      <th>1246</th>\n",
       "      <td>신한카드 하이패스(전용) 체크</td>\n",
       "      <td>https://api.card-gorilla.com:8080/storage/bene...</td>\n",
       "      <td>유의사항</td>\n",
       "      <td>꼭 확인하세요!</td>\n",
       "      <td>카드안내\\n- 기존 신한카드사의 개인 체크카드를 소지한 본인회원만 발급 신청 가능합...</td>\n",
       "    </tr>\n",
       "  </tbody>\n",
       "</table>\n",
       "<p>1247 rows × 5 columns</p>\n",
       "</div>"
      ],
      "text/plain": [
       "                       cd_pd  \\\n",
       "0     현대카드ZERO Edition2(할인형)   \n",
       "1     현대카드ZERO Edition2(할인형)   \n",
       "2     현대카드ZERO Edition2(할인형)   \n",
       "3     현대카드ZERO Edition2(할인형)   \n",
       "4     현대카드ZERO Edition2(할인형)   \n",
       "...                      ...   \n",
       "1242              해피락스타 체크카드   \n",
       "1243              해피락스타 체크카드   \n",
       "1244              해피락스타 체크카드   \n",
       "1245        신한카드 하이패스(전용) 체크   \n",
       "1246        신한카드 하이패스(전용) 체크   \n",
       "\n",
       "                                              cd_bf_img cd_bf_name  \\\n",
       "0     https://api.card-gorilla.com:8080/storage/bene...         할인   \n",
       "1     https://api.card-gorilla.com:8080/storage/bene...         할인   \n",
       "2     https://api.card-gorilla.com:8080/storage/bene...   프리미엄 서비스   \n",
       "3     https://api.card-gorilla.com:8080/storage/bene...      무이자할부   \n",
       "4     https://api.card-gorilla.com:8080/storage/bene...       유의사항   \n",
       "...                                                 ...        ...   \n",
       "1242  https://api.card-gorilla.com:8080/storage/bene...        은행사   \n",
       "1243  https://api.card-gorilla.com:8080/storage/bene...         기타   \n",
       "1244  https://api.card-gorilla.com:8080/storage/bene...       유의사항   \n",
       "1245  https://api.card-gorilla.com:8080/storage/bene...       하이패스   \n",
       "1246  https://api.card-gorilla.com:8080/storage/bene...       유의사항   \n",
       "\n",
       "                             cd_bf_sum  \\\n",
       "0     [기본 할인] 국내외 가맹점 이용금액의 0.7% 청구 할인   \n",
       "1       [생활 필수 영역 할인] 이용금액의 1.5% 청구 할인   \n",
       "2     VISA 플래티넘 / Young Premium 서비스 제공   \n",
       "3                            무이자할부 서비스   \n",
       "4                             꼭 확인하세요!   \n",
       "...                                ...   \n",
       "1242                      금융수수료 면제 서비스   \n",
       "1243                            통합할인한도   \n",
       "1244                          꼭 확인하세요!   \n",
       "1245            하이패스 이용요금의 0.1% 포인트 적립   \n",
       "1246                          꼭 확인하세요!   \n",
       "\n",
       "                                           cd_bf_detail  \n",
       "0     국내외 가맹점 이용금액의 0.7% 청구 할인\\n- 할인 횟수/한도 제한 없음\\n- ...  \n",
       "1     생활 필수 영역 이용금액의 1.5% 청구 할인\\n① 온라인 간편결제서비스 : 삼성페...  \n",
       "2     VISA 플래티넘서비스\\n- VISA 브랜드 플래티넘서비스 중 기본제공서비스에 한해...  \n",
       "3     모든 가맹점 2~3개월 무이자할부 \\n- 모든 가맹점에서 2~3개월 할부 결제 시 ...  \n",
       "4     이용 안내\\n- 국내외 가맹점은 현대카드 가맹점 등록 기준\\n- 당사는 상품설명서의...  \n",
       "...                                                 ...  \n",
       "1242  금융수수료 면제 서비스\\n- 인터넷·모바일·폰뱅킹 타행이체 수수료 면제\\n- KB국...  \n",
       "1243  월간 통합할인한도\\n- 전월 이용실적 20만원 이상: 1만원\\n- 전월 이용실적 3...  \n",
       "1244  카드발급\\n- 인터넷을 통한 체크카드 발급은 만 17세 이상으로 KB국민은행 요구불...  \n",
       "1245  하이패스 체크카드 서비스 \\n* 상세내용은 도로공사 홈페이지(www.ex.co.kr...  \n",
       "1246  카드안내\\n- 기존 신한카드사의 개인 체크카드를 소지한 본인회원만 발급 신청 가능합...  \n",
       "\n",
       "[1247 rows x 5 columns]"
      ]
     },
     "execution_count": 282,
     "metadata": {},
     "output_type": "execute_result"
    }
   ],
   "source": [
    "cd_bf"
   ]
  },
  {
   "cell_type": "code",
   "execution_count": 284,
   "id": "11167aa3",
   "metadata": {},
   "outputs": [],
   "source": [
    "img_list = cd_bf['cd_bf_img'].unique().tolist()\n",
    "img_list = pd.DataFrame(img_list, columns =['img_src'])"
   ]
  },
  {
   "cell_type": "code",
   "execution_count": 272,
   "id": "8a62c773",
   "metadata": {},
   "outputs": [
    {
     "data": {
      "text/html": [
       "<div>\n",
       "<style scoped>\n",
       "    .dataframe tbody tr th:only-of-type {\n",
       "        vertical-align: middle;\n",
       "    }\n",
       "\n",
       "    .dataframe tbody tr th {\n",
       "        vertical-align: top;\n",
       "    }\n",
       "\n",
       "    .dataframe thead th {\n",
       "        text-align: right;\n",
       "    }\n",
       "</style>\n",
       "<table border=\"1\" class=\"dataframe\">\n",
       "  <thead>\n",
       "    <tr style=\"text-align: right;\">\n",
       "      <th></th>\n",
       "      <th>cd_name</th>\n",
       "      <th>cp</th>\n",
       "      <th>cd_type</th>\n",
       "      <th>cd_img</th>\n",
       "      <th>cd_perm</th>\n",
       "      <th>cd_fee</th>\n",
       "      <th>cd_link</th>\n",
       "    </tr>\n",
       "  </thead>\n",
       "  <tbody>\n",
       "    <tr>\n",
       "      <th>0</th>\n",
       "      <td>현대카드ZERO Edition2(할인형)</td>\n",
       "      <td>현대카드</td>\n",
       "      <td>1</td>\n",
       "      <td>https://api.card-gorilla.com:8080/storage/card...</td>\n",
       "      <td>전월실적 없음</td>\n",
       "      <td>국내전용 10,000원 해외겸용 10,000원</td>\n",
       "      <td>https://www.card-gorilla.com/card/bridge/608</td>\n",
       "    </tr>\n",
       "    <tr>\n",
       "      <th>1</th>\n",
       "      <td>DA@카드의정석</td>\n",
       "      <td>우리카드</td>\n",
       "      <td>1</td>\n",
       "      <td>https://api.card-gorilla.com:8080/storage/card...</td>\n",
       "      <td>전월실적 없음</td>\n",
       "      <td>국내전용 5,000원 해외겸용 10,000원</td>\n",
       "      <td>https://www.card-gorilla.com/card/bridge/87</td>\n",
       "    </tr>\n",
       "    <tr>\n",
       "      <th>2</th>\n",
       "      <td>올바른 FLEX 카드</td>\n",
       "      <td>NH농협카드</td>\n",
       "      <td>1</td>\n",
       "      <td>https://api.card-gorilla.com:8080/storage/card...</td>\n",
       "      <td>전월실적30 만원 이상</td>\n",
       "      <td>국내전용 10,000원 해외겸용 12,000원</td>\n",
       "      <td>https://www.card-gorilla.com/card/bridge/666</td>\n",
       "    </tr>\n",
       "    <tr>\n",
       "      <th>3</th>\n",
       "      <td>삼성카드 taptap O</td>\n",
       "      <td>삼성카드</td>\n",
       "      <td>1</td>\n",
       "      <td>https://api.card-gorilla.com:8080/storage/card...</td>\n",
       "      <td>전월실적30 만원 이상</td>\n",
       "      <td>국내전용 10,000원 해외겸용 10,000원</td>\n",
       "      <td>https://www.card-gorilla.com/card/bridge/51</td>\n",
       "    </tr>\n",
       "    <tr>\n",
       "      <th>4</th>\n",
       "      <td>LOCA 365 카드</td>\n",
       "      <td>롯데카드</td>\n",
       "      <td>1</td>\n",
       "      <td>https://api.card-gorilla.com:8080/storage/card...</td>\n",
       "      <td>전월실적50 만원 이상</td>\n",
       "      <td>국내전용 20,000원 해외겸용 20,000원</td>\n",
       "      <td>https://www.card-gorilla.com/card/bridge/2330</td>\n",
       "    </tr>\n",
       "    <tr>\n",
       "      <th>...</th>\n",
       "      <td>...</td>\n",
       "      <td>...</td>\n",
       "      <td>...</td>\n",
       "      <td>...</td>\n",
       "      <td>...</td>\n",
       "      <td>...</td>\n",
       "      <td>...</td>\n",
       "    </tr>\n",
       "    <tr>\n",
       "      <th>194</th>\n",
       "      <td>신한카드 플리(체크)</td>\n",
       "      <td>신한카드</td>\n",
       "      <td>2</td>\n",
       "      <td>https://api.card-gorilla.com:8080/storage/card...</td>\n",
       "      <td>전월실적 없음</td>\n",
       "      <td>국내전용 없음 해외겸용 없음</td>\n",
       "      <td>https://www.card-gorilla.com/card/bridge/2372</td>\n",
       "    </tr>\n",
       "    <tr>\n",
       "      <th>195</th>\n",
       "      <td>내일배움체크카드</td>\n",
       "      <td>NH농협카드</td>\n",
       "      <td>2</td>\n",
       "      <td>https://api.card-gorilla.com:8080/storage/card...</td>\n",
       "      <td>전월실적 없음</td>\n",
       "      <td>국내전용 없음</td>\n",
       "      <td>None</td>\n",
       "    </tr>\n",
       "    <tr>\n",
       "      <th>196</th>\n",
       "      <td>음 체크카드</td>\n",
       "      <td>KB국민카드</td>\n",
       "      <td>2</td>\n",
       "      <td>https://api.card-gorilla.com:8080/storage/card...</td>\n",
       "      <td>전월실적30 만원 이상</td>\n",
       "      <td>국내전용 없음 해외겸용 없음</td>\n",
       "      <td>https://www.card-gorilla.com/card/bridge/339</td>\n",
       "    </tr>\n",
       "    <tr>\n",
       "      <th>197</th>\n",
       "      <td>해피락스타 체크카드</td>\n",
       "      <td>KB국민카드</td>\n",
       "      <td>2</td>\n",
       "      <td>https://api.card-gorilla.com:8080/storage/card...</td>\n",
       "      <td>전월실적20 만원 이상</td>\n",
       "      <td>국내전용 없음 해외겸용 없음</td>\n",
       "      <td>https://www.card-gorilla.com/card/bridge/349</td>\n",
       "    </tr>\n",
       "    <tr>\n",
       "      <th>198</th>\n",
       "      <td>신한카드 하이패스(전용) 체크</td>\n",
       "      <td>신한카드</td>\n",
       "      <td>2</td>\n",
       "      <td>https://api.card-gorilla.com:8080/storage/card...</td>\n",
       "      <td>전월실적10 만원 이상</td>\n",
       "      <td>국내전용 없음</td>\n",
       "      <td>None</td>\n",
       "    </tr>\n",
       "  </tbody>\n",
       "</table>\n",
       "<p>199 rows × 7 columns</p>\n",
       "</div>"
      ],
      "text/plain": [
       "                    cd_name      cp  cd_type  \\\n",
       "0    현대카드ZERO Edition2(할인형)    현대카드        1   \n",
       "1                  DA@카드의정석    우리카드        1   \n",
       "2               올바른 FLEX 카드  NH농협카드        1   \n",
       "3             삼성카드 taptap O    삼성카드        1   \n",
       "4               LOCA 365 카드    롯데카드        1   \n",
       "..                      ...     ...      ...   \n",
       "194             신한카드 플리(체크)    신한카드        2   \n",
       "195                내일배움체크카드  NH농협카드        2   \n",
       "196                  음 체크카드  KB국민카드        2   \n",
       "197              해피락스타 체크카드  KB국민카드        2   \n",
       "198        신한카드 하이패스(전용) 체크    신한카드        2   \n",
       "\n",
       "                                                cd_img       cd_perm  \\\n",
       "0    https://api.card-gorilla.com:8080/storage/card...       전월실적 없음   \n",
       "1    https://api.card-gorilla.com:8080/storage/card...       전월실적 없음   \n",
       "2    https://api.card-gorilla.com:8080/storage/card...  전월실적30 만원 이상   \n",
       "3    https://api.card-gorilla.com:8080/storage/card...  전월실적30 만원 이상   \n",
       "4    https://api.card-gorilla.com:8080/storage/card...  전월실적50 만원 이상   \n",
       "..                                                 ...           ...   \n",
       "194  https://api.card-gorilla.com:8080/storage/card...       전월실적 없음   \n",
       "195  https://api.card-gorilla.com:8080/storage/card...       전월실적 없음   \n",
       "196  https://api.card-gorilla.com:8080/storage/card...  전월실적30 만원 이상   \n",
       "197  https://api.card-gorilla.com:8080/storage/card...  전월실적20 만원 이상   \n",
       "198  https://api.card-gorilla.com:8080/storage/card...  전월실적10 만원 이상   \n",
       "\n",
       "                        cd_fee                                        cd_link  \n",
       "0    국내전용 10,000원 해외겸용 10,000원   https://www.card-gorilla.com/card/bridge/608  \n",
       "1     국내전용 5,000원 해외겸용 10,000원    https://www.card-gorilla.com/card/bridge/87  \n",
       "2    국내전용 10,000원 해외겸용 12,000원   https://www.card-gorilla.com/card/bridge/666  \n",
       "3    국내전용 10,000원 해외겸용 10,000원    https://www.card-gorilla.com/card/bridge/51  \n",
       "4    국내전용 20,000원 해외겸용 20,000원  https://www.card-gorilla.com/card/bridge/2330  \n",
       "..                         ...                                            ...  \n",
       "194            국내전용 없음 해외겸용 없음  https://www.card-gorilla.com/card/bridge/2372  \n",
       "195                    국내전용 없음                                           None  \n",
       "196            국내전용 없음 해외겸용 없음   https://www.card-gorilla.com/card/bridge/339  \n",
       "197            국내전용 없음 해외겸용 없음   https://www.card-gorilla.com/card/bridge/349  \n",
       "198                    국내전용 없음                                           None  \n",
       "\n",
       "[199 rows x 7 columns]"
      ]
     },
     "execution_count": 272,
     "metadata": {},
     "output_type": "execute_result"
    }
   ],
   "source": [
    "cd_pd"
   ]
  },
  {
   "cell_type": "code",
   "execution_count": 286,
   "id": "571592d1",
   "metadata": {},
   "outputs": [
    {
     "data": {
      "text/html": [
       "<div>\n",
       "<style scoped>\n",
       "    .dataframe tbody tr th:only-of-type {\n",
       "        vertical-align: middle;\n",
       "    }\n",
       "\n",
       "    .dataframe tbody tr th {\n",
       "        vertical-align: top;\n",
       "    }\n",
       "\n",
       "    .dataframe thead th {\n",
       "        text-align: right;\n",
       "    }\n",
       "</style>\n",
       "<table border=\"1\" class=\"dataframe\">\n",
       "  <thead>\n",
       "    <tr style=\"text-align: right;\">\n",
       "      <th></th>\n",
       "      <th>img_src</th>\n",
       "    </tr>\n",
       "  </thead>\n",
       "  <tbody>\n",
       "    <tr>\n",
       "      <th>0</th>\n",
       "      <td>https://api.card-gorilla.com:8080/storage/bene...</td>\n",
       "    </tr>\n",
       "    <tr>\n",
       "      <th>1</th>\n",
       "      <td>https://api.card-gorilla.com:8080/storage/bene...</td>\n",
       "    </tr>\n",
       "    <tr>\n",
       "      <th>2</th>\n",
       "      <td>https://api.card-gorilla.com:8080/storage/bene...</td>\n",
       "    </tr>\n",
       "    <tr>\n",
       "      <th>3</th>\n",
       "      <td>https://api.card-gorilla.com:8080/storage/bene...</td>\n",
       "    </tr>\n",
       "    <tr>\n",
       "      <th>4</th>\n",
       "      <td>https://api.card-gorilla.com:8080/storage/bene...</td>\n",
       "    </tr>\n",
       "    <tr>\n",
       "      <th>...</th>\n",
       "      <td>...</td>\n",
       "    </tr>\n",
       "    <tr>\n",
       "      <th>99</th>\n",
       "      <td>https://api.card-gorilla.com:8080/storage/bene...</td>\n",
       "    </tr>\n",
       "    <tr>\n",
       "      <th>100</th>\n",
       "      <td>https://api.card-gorilla.com:8080/storage/bene...</td>\n",
       "    </tr>\n",
       "    <tr>\n",
       "      <th>101</th>\n",
       "      <td>https://api.card-gorilla.com:8080/storage/bene...</td>\n",
       "    </tr>\n",
       "    <tr>\n",
       "      <th>102</th>\n",
       "      <td>https://api.card-gorilla.com:8080/storage/bene...</td>\n",
       "    </tr>\n",
       "    <tr>\n",
       "      <th>103</th>\n",
       "      <td>https://api.card-gorilla.com:8080/storage/bene...</td>\n",
       "    </tr>\n",
       "  </tbody>\n",
       "</table>\n",
       "<p>104 rows × 1 columns</p>\n",
       "</div>"
      ],
      "text/plain": [
       "                                               img_src\n",
       "0    https://api.card-gorilla.com:8080/storage/bene...\n",
       "1    https://api.card-gorilla.com:8080/storage/bene...\n",
       "2    https://api.card-gorilla.com:8080/storage/bene...\n",
       "3    https://api.card-gorilla.com:8080/storage/bene...\n",
       "4    https://api.card-gorilla.com:8080/storage/bene...\n",
       "..                                                 ...\n",
       "99   https://api.card-gorilla.com:8080/storage/bene...\n",
       "100  https://api.card-gorilla.com:8080/storage/bene...\n",
       "101  https://api.card-gorilla.com:8080/storage/bene...\n",
       "102  https://api.card-gorilla.com:8080/storage/bene...\n",
       "103  https://api.card-gorilla.com:8080/storage/bene...\n",
       "\n",
       "[104 rows x 1 columns]"
      ]
     },
     "execution_count": 286,
     "metadata": {},
     "output_type": "execute_result"
    }
   ],
   "source": [
    "img_list"
   ]
  },
  {
   "cell_type": "code",
   "execution_count": 285,
   "id": "b0f89b6a",
   "metadata": {},
   "outputs": [],
   "source": [
    "cd_pd.to_csv('카드상품.csv', index=False, encoding='utf-8-sig')\n",
    "cd_bf.to_csv('카드혜택.csv', index=False, encoding='utf-8-sig')\n",
    "img_list.to_csv('카드혜택img.csv', index=False, encoding='utf-8-sig')"
   ]
  }
 ],
 "metadata": {
  "kernelspec": {
   "display_name": "Python 3 (ipykernel)",
   "language": "python",
   "name": "python3"
  },
  "language_info": {
   "codemirror_mode": {
    "name": "ipython",
    "version": 3
   },
   "file_extension": ".py",
   "mimetype": "text/x-python",
   "name": "python",
   "nbconvert_exporter": "python",
   "pygments_lexer": "ipython3",
   "version": "3.9.12"
  }
 },
 "nbformat": 4,
 "nbformat_minor": 5
}
